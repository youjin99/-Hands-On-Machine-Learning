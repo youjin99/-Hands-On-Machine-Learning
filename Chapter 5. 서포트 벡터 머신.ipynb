{
 "cells": [
  {
   "cell_type": "markdown",
   "id": "00fb4fa8",
   "metadata": {},
   "source": [
    "# 5.1 선형 SVM 분류\n",
    "- 라지 마진 분류 : SVM 분류기를 클래스 사이에 가장 폭이 넓은 도로를 찾는 것으로 생각할 수 있다.\n",
    "- 경계에 위치한 샘플에 의해 전적으로 결정된다.(서포트 벡터)\n",
    "- SVM은 특성의 스케일에 민감하다. "
   ]
  },
  {
   "cell_type": "markdown",
   "id": "3e545318",
   "metadata": {},
   "source": [
    "## 5.1.1 소프트 마진 분류\n",
    "- 하드 마진 분류 : 모든 샘플이 도로 바깥쪽에 올바르게 분류되어 있는 것\n",
    "    - 데이터가 선형적으로 구분될 수 있어야 제대로 작동\n",
    "    - 이상치에 민감 \n",
    "- 소프트 마진 분류 : 도로의 폭을 가능한 한 넓게 유지하고 마진 오류 사이에 적절한 균형을 잡는 것 \n",
    "    "
   ]
  },
  {
   "cell_type": "code",
   "execution_count": 2,
   "id": "968c9e89",
   "metadata": {},
   "outputs": [
    {
     "data": {
      "text/plain": [
       "Pipeline(steps=[('sclaer', StandardScaler()),\n",
       "                ('linear_svc', LinearSVC(C=1, loss='hinge'))])"
      ]
     },
     "execution_count": 2,
     "metadata": {},
     "output_type": "execute_result"
    }
   ],
   "source": [
    "import numpy as np\n",
    "from sklearn import datasets\n",
    "from sklearn.pipeline import Pipeline\n",
    "from sklearn.preprocessing import StandardScaler\n",
    "from sklearn.svm import LinearSVC\n",
    "\n",
    "iris = datasets.load_iris()\n",
    "X = iris[\"data\"][:,(2,3)] #꽃잎 길이, 꽃잎 너비\n",
    "y = (iris[\"target\"]==2).astype(np.float64) \n",
    "\n",
    "svm_clf = Pipeline([\n",
    "    (\"sclaer\", StandardScaler()),\n",
    "    (\"linear_svc\", LinearSVC(C=1, loss=\"hinge\"))\n",
    "])\n",
    "\n",
    "svm_clf.fit(X,y)"
   ]
  },
  {
   "cell_type": "code",
   "execution_count": 3,
   "id": "4e3e9b6e",
   "metadata": {},
   "outputs": [
    {
     "data": {
      "text/plain": [
       "array([1.])"
      ]
     },
     "execution_count": 3,
     "metadata": {},
     "output_type": "execute_result"
    }
   ],
   "source": [
    "svm_clf.predict([[5.5,1.7]])"
   ]
  },
  {
   "cell_type": "markdown",
   "id": "ca3f23a8",
   "metadata": {},
   "source": [
    "- SVM 분류기는 클래스에 대한 확률 제공X"
   ]
  },
  {
   "cell_type": "markdown",
   "id": "c70635aa",
   "metadata": {},
   "source": [
    "# 5.2 비선형 SVM 분류"
   ]
  },
  {
   "cell_type": "code",
   "execution_count": 4,
   "id": "906c389e",
   "metadata": {
    "scrolled": true
   },
   "outputs": [
    {
     "name": "stderr",
     "output_type": "stream",
     "text": [
      "C:\\Users\\qual9\\Anaconda3\\lib\\site-packages\\sklearn\\svm\\_base.py:985: ConvergenceWarning: Liblinear failed to converge, increase the number of iterations.\n",
      "  warnings.warn(\"Liblinear failed to converge, increase \"\n"
     ]
    },
    {
     "data": {
      "text/plain": [
       "Pipeline(steps=[('poly_features', PolynomialFeatures(degree=3)),\n",
       "                ('sclaer', StandardScaler()),\n",
       "                ('svm_clf', LinearSVC(C=10, loss='hinge'))])"
      ]
     },
     "execution_count": 4,
     "metadata": {},
     "output_type": "execute_result"
    }
   ],
   "source": [
    "from sklearn.datasets import make_moons\n",
    "from sklearn.pipeline import Pipeline\n",
    "from sklearn.preprocessing import PolynomialFeatures\n",
    "\n",
    "X,y = make_moons(n_samples=100, noise = 0.15)\n",
    "polynomial_svm_clf = Pipeline([\n",
    "    (\"poly_features\", PolynomialFeatures(degree=3)),\n",
    "    (\"sclaer\", StandardScaler()),\n",
    "    (\"svm_clf\", LinearSVC(C=10, loss='hinge'))\n",
    "])\n",
    "\n",
    "polynomial_svm_clf.fit(X,y)"
   ]
  },
  {
   "cell_type": "code",
   "execution_count": 5,
   "id": "534d2e95",
   "metadata": {},
   "outputs": [
    {
     "data": {
      "text/plain": [
       "(array([ 0.21349784, -0.06441746]), 1)"
      ]
     },
     "execution_count": 5,
     "metadata": {},
     "output_type": "execute_result"
    }
   ],
   "source": [
    "X[0],y[0]"
   ]
  },
  {
   "cell_type": "code",
   "execution_count": 6,
   "id": "e0070210",
   "metadata": {},
   "outputs": [
    {
     "data": {
      "text/plain": [
       "(array([1.76796495, 0.10043691]), 1)"
      ]
     },
     "execution_count": 6,
     "metadata": {},
     "output_type": "execute_result"
    }
   ],
   "source": [
    "X[30],y[30]"
   ]
  },
  {
   "cell_type": "code",
   "execution_count": 7,
   "id": "a6f5739b",
   "metadata": {},
   "outputs": [
    {
     "data": {
      "text/plain": [
       "array([1], dtype=int64)"
      ]
     },
     "execution_count": 7,
     "metadata": {},
     "output_type": "execute_result"
    }
   ],
   "source": [
    "polynomial_svm_clf.predict([[3,0.5]])"
   ]
  },
  {
   "cell_type": "code",
   "execution_count": 8,
   "id": "1b78b02c",
   "metadata": {},
   "outputs": [
    {
     "data": {
      "text/plain": [
       "array([0], dtype=int64)"
      ]
     },
     "execution_count": 8,
     "metadata": {},
     "output_type": "execute_result"
    }
   ],
   "source": [
    "polynomial_svm_clf.predict([[-1,0.5]])"
   ]
  },
  {
   "cell_type": "code",
   "execution_count": 9,
   "id": "668ad31e",
   "metadata": {},
   "outputs": [
    {
     "data": {
      "image/png": "[encoded data removed]",
      "text/plain": [
       "<Figure size 432x288 with 1 Axes>"
      ]
     },
     "metadata": {
      "needs_background": "light"
     },
     "output_type": "display_data"
    }
   ],
   "source": [
    "import matplotlib.pyplot as plt\n",
    "\n",
    "def plot_dataset(X, y, axes):\n",
    "    plt.plot(X[:, 0][y==0], X[:, 1][y==0], \"bs\")\n",
    "    plt.plot(X[:, 0][y==1], X[:, 1][y==1], \"g^\")\n",
    "    plt.axis(axes)\n",
    "    plt.grid(True, which='both')\n",
    "    plt.xlabel(r\"$x_1$\", fontsize=20)\n",
    "    plt.ylabel(r\"$x_2$\", fontsize=20, rotation=0)\n",
    "    \n",
    "def plot_predictions(clf, axes):\n",
    "    x0s = np.linspace(axes[0], axes[1], 100)\n",
    "    x1s = np.linspace(axes[2], axes[3], 100)\n",
    "    x0, x1 = np.meshgrid(x0s, x1s)\n",
    "    X = np.c_[x0.ravel(), x1.ravel()]\n",
    "    y_pred = clf.predict(X).reshape(x0.shape)\n",
    "    y_decision = clf.decision_function(X).reshape(x0.shape)\n",
    "    plt.contourf(x0, x1, y_pred, cmap=plt.cm.brg, alpha=0.2)\n",
    "    plt.contourf(x0, x1, y_decision, cmap=plt.cm.brg, alpha=0.1)\n",
    "\n",
    "plot_predictions(polynomial_svm_clf, [-1.5, 2.5, -1, 1.5])\n",
    "plot_dataset(X, y, [-1.5, 2.5, -1, 1.5])"
   ]
  },
  {
   "cell_type": "markdown",
   "id": "9561c4e1",
   "metadata": {},
   "source": [
    "## 5.2.1 다항식 커널\n",
    "- 커널 트릭 : 실제로는 특서을 추가하지 않으면서 다항식 특성을 많이 추가한 것과 같은 결과를 얻을 수 있음. "
   ]
  },
  {
   "cell_type": "code",
   "execution_count": 10,
   "id": "bf74e979",
   "metadata": {},
   "outputs": [
    {
     "data": {
      "text/plain": [
       "Pipeline(steps=[('sclaer', StandardScaler()),\n",
       "                ('svm_clf', SVC(C=5, coef0=1, kernel='poly'))])"
      ]
     },
     "execution_count": 10,
     "metadata": {},
     "output_type": "execute_result"
    }
   ],
   "source": [
    "from sklearn.svm import SVC\n",
    "poly_kernel_svm_clf = Pipeline([\n",
    "    (\"sclaer\",StandardScaler()),\n",
    "    (\"svm_clf\",SVC(kernel=\"poly\", degree = 3, coef0=1,C=5))\n",
    "])\n",
    "\n",
    "poly_kernel_svm_clf.fit(X,y)"
   ]
  },
  {
   "cell_type": "markdown",
   "id": "1a2f4070",
   "metadata": {},
   "source": [
    "모델이 과대적합이라면 다항식의 차수를 줄여야하고 과소적합이라면 차수를 늘려야한다. \n",
    "\n",
    "coef0 : 높은 차수와 낮은 차수에 얼마나 영향을 받을지 조절"
   ]
  },
  {
   "attachments": {
    "RBF.png": {
     "image/png": "[encoded data removed]"
    }
   },
   "cell_type": "markdown",
   "id": "8f38f5b4",
   "metadata": {},
   "source": [
    "## 5.2.2 유사도 특성\n",
    "- 비선형 특성을 다루는 또 다른 기법은 각 샘플이 특정 랜드마크와 얼마나 닮았는지 측정하는 유사도 함수로 계싼한 특성 추가\n",
    "- 가우시안 방사 기저 함수(RBF)를 유사도 함수로 정의 \n",
    "![RBF.png](attachment:RBF.png)\n",
    "  - 0 : 랜드마크에서 아주 멀리 떨어진 경우\n",
    "  - 1 : 랜드마크와 같은 위치일 경우\n",
    "  - 종 모양 "
   ]
  },
  {
   "cell_type": "markdown",
   "id": "1e98e2d7",
   "metadata": {},
   "source": [
    "## 5.2.3 가우시안 RBF 커널"
   ]
  },
  {
   "cell_type": "code",
   "execution_count": 11,
   "id": "c54bc7f9",
   "metadata": {},
   "outputs": [
    {
     "data": {
      "text/plain": [
       "Pipeline(steps=[('sclaer', StandardScaler()),\n",
       "                ('svm_clf', SVC(C=0.001, gamma=5))])"
      ]
     },
     "execution_count": 11,
     "metadata": {},
     "output_type": "execute_result"
    }
   ],
   "source": [
    "rbf_kernerl_svm_clf = Pipeline([\n",
    "    (\"sclaer\", StandardScaler()),\n",
    "    (\"svm_clf\",SVC(kernel=\"rbf\", gamma = 5, C=0.001))\n",
    "])\n",
    "\n",
    "rbf_kernerl_svm_clf.fit(X,y)"
   ]
  },
  {
   "cell_type": "markdown",
   "id": "37320ad0",
   "metadata": {},
   "source": [
    "- gamma 증가 -> 종 모양 그래프가 좁아져서 각 샘플의 영향 범위가 작아진다. 결정 경계가 조금 더 불규칙해지고 각 샘플을 따라 구불구불하게 휘어진다\n",
    "- gamma 감소 -> 넓은 종 모양 그래프를 만들며 샘플이 넓은 범위에 걸쳐 영향을 주므로 결정 경계가 더 부드러워진다. \n",
    "\n",
    "=> gamma가 규제의 역할 : 모델이 과대적합일 경우엔 감소, 과소적합일 경우엔 증가(하이퍼파라미터 C와 비슷)"
   ]
  },
  {
   "cell_type": "code",
   "execution_count": 12,
   "id": "e672aed3",
   "metadata": {},
   "outputs": [
    {
     "data": {
      "image/png": "[encoded data removed]",
      "text/plain": [
       "<Figure size 756x504 with 4 Axes>"
      ]
     },
     "metadata": {
      "needs_background": "light"
     },
     "output_type": "display_data"
    }
   ],
   "source": [
    "from sklearn.svm import SVC\n",
    "\n",
    "gamma1, gamma2 = 0.1, 5\n",
    "C1, C2 = 0.001, 1000\n",
    "hyperparams = (gamma1, C1), (gamma1, C2), (gamma2, C1), (gamma2, C2)\n",
    "\n",
    "svm_clfs = []\n",
    "for gamma, C in hyperparams:\n",
    "    rbf_kernel_svm_clf = Pipeline([\n",
    "            (\"scaler\", StandardScaler()),\n",
    "            (\"svm_clf\", SVC(kernel=\"rbf\", gamma=gamma, C=C))\n",
    "        ])\n",
    "    rbf_kernel_svm_clf.fit(X, y)\n",
    "    svm_clfs.append(rbf_kernel_svm_clf)\n",
    "\n",
    "fig, axes = plt.subplots(nrows=2, ncols=2, figsize=(10.5, 7), sharex=True, sharey=True)\n",
    "\n",
    "for i, svm_clf in enumerate(svm_clfs):\n",
    "    plt.sca(axes[i // 2, i % 2])\n",
    "    plot_predictions(svm_clf, [-1.5, 2.45, -1, 1.5])\n",
    "    plot_dataset(X, y, [-1.5, 2.45, -1, 1.5])\n",
    "    gamma, C = hyperparams[i]\n",
    "    plt.title(r\"$\\gamma = {}, C = {}$\".format(gamma, C), fontsize=16)\n",
    "    if i in (0, 1):\n",
    "        plt.xlabel(\"\")\n",
    "    if i in (1, 3):\n",
    "        plt.ylabel(\"\")"
   ]
  },
  {
   "cell_type": "markdown",
   "id": "93e2662d",
   "metadata": {},
   "source": [
    "- 문자열 커널 : 텍스트 문서나 DNA 서열을 분류할 때 사용 ex) 문자열 서브시퀀스 커널, 레벤슈타인 거리 기반의 커널)\n",
    "\n",
    "- 항상 선형 커널을 가장 먼저 시도(LinearSVC가 SVC(kernel = 'linear')보다 훨씬 빠르다) \n",
    "  - 특히 훈련 세트가 아주 크거나 특성 수가 많을 경우\n",
    "-  훈련 세트가 너무 크지 않다면 가우시안 RBF 커널도 좋음 \n",
    "- 교차 검증, 그리드 탐색을 사용해 다양한 커널 시도 "
   ]
  },
  {
   "cell_type": "markdown",
   "id": "547f8bcf",
   "metadata": {},
   "source": [
    "## 5.2.4 계산 복잡도 "
   ]
  },
  {
   "cell_type": "markdown",
   "id": "edaa41b0",
   "metadata": {},
   "source": [
    "# 5.3 SVM 회귀\n",
    "- 일정한 마진 오류 안에서 두 클래스 간의 도로 폭이 가능한 한 최대가 되도록 하는 대신, SVM 회귀는 제한된 마진 오류(즉, 도로 밖의 샘플) 안에서 도로 안에 가능한 한 많은 샘플이 들어가도록 학습한다. "
   ]
  },
  {
   "cell_type": "code",
   "execution_count": 13,
   "id": "1c57b94f",
   "metadata": {},
   "outputs": [],
   "source": [
    "np.random.seed(42)\n",
    "m = 100\n",
    "X = 2 * np.random.rand(m, 1) - 1\n",
    "y = (0.2 + 0.1 * X + 0.5 * X**2 + np.random.randn(m, 1)/10).ravel()"
   ]
  },
  {
   "cell_type": "code",
   "execution_count": 14,
   "id": "8598481a",
   "metadata": {
    "scrolled": true
   },
   "outputs": [
    {
     "data": {
      "text/plain": [
       "(array([[-0.25091976],\n",
       "        [ 0.90142861],\n",
       "        [ 0.46398788],\n",
       "        [ 0.19731697],\n",
       "        [-0.68796272],\n",
       "        [-0.68801096],\n",
       "        [-0.88383278],\n",
       "        [ 0.73235229],\n",
       "        [ 0.20223002],\n",
       "        [ 0.41614516],\n",
       "        [-0.95883101],\n",
       "        [ 0.9398197 ],\n",
       "        [ 0.66488528],\n",
       "        [-0.57532178],\n",
       "        [-0.63635007],\n",
       "        [-0.63319098],\n",
       "        [-0.39151551],\n",
       "        [ 0.04951286],\n",
       "        [-0.13610996],\n",
       "        [-0.41754172],\n",
       "        [ 0.22370579],\n",
       "        [-0.72101228],\n",
       "        [-0.4157107 ],\n",
       "        [-0.26727631],\n",
       "        [-0.08786003],\n",
       "        [ 0.57035192],\n",
       "        [-0.60065244],\n",
       "        [ 0.02846888],\n",
       "        [ 0.18482914],\n",
       "        [-0.90709917],\n",
       "        [ 0.2150897 ],\n",
       "        [-0.65895175],\n",
       "        [-0.86989681],\n",
       "        [ 0.89777107],\n",
       "        [ 0.93126407],\n",
       "        [ 0.6167947 ],\n",
       "        [-0.39077246],\n",
       "        [-0.80465577],\n",
       "        [ 0.36846605],\n",
       "        [-0.11969501],\n",
       "        [-0.75592353],\n",
       "        [-0.00964618],\n",
       "        [-0.93122296],\n",
       "        [ 0.8186408 ],\n",
       "        [-0.48244004],\n",
       "        [ 0.32504457],\n",
       "        [-0.37657785],\n",
       "        [ 0.04013604],\n",
       "        [ 0.09342056],\n",
       "        [-0.63029109],\n",
       "        [ 0.93916926],\n",
       "        [ 0.55026565],\n",
       "        [ 0.87899788],\n",
       "        [ 0.7896547 ],\n",
       "        [ 0.19579996],\n",
       "        [ 0.84374847],\n",
       "        [-0.823015  ],\n",
       "        [-0.60803428],\n",
       "        [-0.90954542],\n",
       "        [-0.34933934],\n",
       "        [-0.22264542],\n",
       "        [-0.45730194],\n",
       "        [ 0.65747502],\n",
       "        [-0.28649335],\n",
       "        [-0.43813098],\n",
       "        [ 0.08539217],\n",
       "        [-0.71815155],\n",
       "        [ 0.60439396],\n",
       "        [-0.85089871],\n",
       "        [ 0.97377387],\n",
       "        [ 0.54448954],\n",
       "        [-0.60256864],\n",
       "        [-0.98895577],\n",
       "        [ 0.63092286],\n",
       "        [ 0.41371469],\n",
       "        [ 0.45801434],\n",
       "        [ 0.54254069],\n",
       "        [-0.8519107 ],\n",
       "        [-0.28306854],\n",
       "        [-0.76826188],\n",
       "        [ 0.72620685],\n",
       "        [ 0.24659625],\n",
       "        [-0.33820395],\n",
       "        [-0.8728833 ],\n",
       "        [-0.37803536],\n",
       "        [-0.34963336],\n",
       "        [ 0.45921236],\n",
       "        [ 0.27511494],\n",
       "        [ 0.77442549],\n",
       "        [-0.05557015],\n",
       "        [-0.76081151],\n",
       "        [ 0.42648957],\n",
       "        [ 0.5215701 ],\n",
       "        [ 0.1225544 ],\n",
       "        [ 0.54193436],\n",
       "        [-0.01240881],\n",
       "        [ 0.04546566],\n",
       "        [-0.14491796],\n",
       "        [-0.94916175],\n",
       "        [-0.78421715]]),\n",
       " array([0.21509309, 0.6665289 , 0.36321724, 0.0404418 , 0.34588289,\n",
       "        0.4035897 , 0.64998631, 0.48957815, 0.15982213, 0.27802721,\n",
       "        0.65533556, 0.76848762, 0.43454873, 0.35929214, 0.34854345,\n",
       "        0.43401081, 0.16728534, 0.17341083, 0.15644115, 0.09906488,\n",
       "        0.27700475, 0.41393365, 0.24534797, 0.18553197, 0.05353662,\n",
       "        0.37762132, 0.28605498, 0.1230244 , 0.21943525, 0.56110962,\n",
       "        0.43325935, 0.36867131, 0.51712559, 0.68532897, 0.53487567,\n",
       "        0.44924593, 0.24329733, 0.68959409, 0.28549412, 0.22534868,\n",
       "        0.40664666, 0.0822141 , 0.65474808, 0.69214377, 0.34723339,\n",
       "        0.1943927 , 0.37352708, 0.06463395, 0.27239147, 0.55464988,\n",
       "        0.63588274, 0.34979293, 0.68418356, 0.54039518, 0.08368246,\n",
       "        0.64718688, 0.35014497, 0.37140866, 0.43073947, 0.38107849,\n",
       "        0.12419562, 0.22662619, 0.56323592, 0.08930345, 0.27491227,\n",
       "        0.3428994 , 0.22530735, 0.46154881, 0.50291272, 0.84967745,\n",
       "        0.27898831, 0.18924196, 0.64231533, 0.49182258, 0.35200068,\n",
       "        0.38533482, 0.3334268 , 0.50091022, 0.24106429, 0.34685183,\n",
       "        0.72288633, 0.30244777, 0.10424021, 0.55932966, 0.13618366,\n",
       "        0.30486687, 0.46721879, 0.18328738, 0.67364758, 0.2372651 ,\n",
       "        0.49554194, 0.52327493, 0.36363588, 0.14439161, 0.31208842,\n",
       "        0.11725508, 0.19786996, 0.23012401, 0.58320692, 0.51179488]))"
      ]
     },
     "execution_count": 14,
     "metadata": {},
     "output_type": "execute_result"
    }
   ],
   "source": [
    "X,y"
   ]
  },
  {
   "cell_type": "code",
   "execution_count": 15,
   "id": "a2d39128",
   "metadata": {},
   "outputs": [
    {
     "data": {
      "text/plain": [
       "LinearSVR(epsilon=1.5)"
      ]
     },
     "execution_count": 15,
     "metadata": {},
     "output_type": "execute_result"
    }
   ],
   "source": [
    "from sklearn.svm import LinearSVR\n",
    "\n",
    "svm_reg = LinearSVR(epsilon=1.5) #마진 1.5\n",
    "svm_reg.fit(X,y)"
   ]
  },
  {
   "cell_type": "code",
   "execution_count": 16,
   "id": "67287caa",
   "metadata": {},
   "outputs": [
    {
     "data": {
      "text/plain": [
       "SVR(C=100, degree=2, kernel='poly')"
      ]
     },
     "execution_count": 16,
     "metadata": {},
     "output_type": "execute_result"
    }
   ],
   "source": [
    "from sklearn.svm import SVR\n",
    "\n",
    "svm_poly_reg = SVR(kernel = \"poly\", degree = 2, C = 100, epsilon=0.1)\n",
    "svm_poly_reg.fit(X,y)"
   ]
  },
  {
   "cell_type": "code",
   "execution_count": 17,
   "id": "d8354873",
   "metadata": {},
   "outputs": [
    {
     "data": {
      "text/plain": [
       "SVR(C=0.01, degree=2, kernel='poly')"
      ]
     },
     "execution_count": 17,
     "metadata": {},
     "output_type": "execute_result"
    }
   ],
   "source": [
    "svm_poly_reg1 = SVR(kernel=\"poly\", degree=2, C=100, epsilon=0.1, gamma=\"scale\")\n",
    "svm_poly_reg2 = SVR(kernel=\"poly\", degree =2, C=0.01, epsilon=0.1, gamma=\"scale\")\n",
    "svm_poly_reg1.fit(X,y)\n",
    "svm_poly_reg2.fit(X,y)"
   ]
  },
  {
   "cell_type": "code",
   "execution_count": 18,
   "id": "17286f36",
   "metadata": {},
   "outputs": [
    {
     "data": {
      "text/plain": [
       "Text(0.5, 1.0, '$degree=2, C=0.01, \\\\epsilon = 0.1$')"
      ]
     },
     "execution_count": 18,
     "metadata": {},
     "output_type": "execute_result"
    },
    {
     "data": {
      "image/png": "[encoded data removed]",
      "text/plain": [
       "<Figure size 648x288 with 2 Axes>"
      ]
     },
     "metadata": {
      "needs_background": "light"
     },
     "output_type": "display_data"
    }
   ],
   "source": [
    "def plot_svm_regression(svm_reg, X, y, axes):\n",
    "    x1s = np.linspace(axes[0], axes[1], 100).reshape(100, 1)\n",
    "    y_pred = svm_reg.predict(x1s)\n",
    "    plt.plot(x1s, y_pred, \"k-\", linewidth=2, label=r\"$\\hat{y}$\")\n",
    "    plt.plot(x1s, y_pred + svm_reg.epsilon, \"k--\")\n",
    "    plt.plot(x1s, y_pred - svm_reg.epsilon, \"k--\")\n",
    "    plt.scatter(X[svm_reg.support_], y[svm_reg.support_], s=180, facecolors='#FFAAAA')\n",
    "    plt.plot(X, y, \"bo\")\n",
    "    plt.xlabel(r\"$x_1$\", fontsize=18)\n",
    "    plt.legend(loc=\"upper left\", fontsize=18)\n",
    "    plt.axis(axes)\n",
    "\n",
    "fig, axes = plt.subplots(ncols=2, figsize=(9, 4), sharey=True)\n",
    "plt.sca(axes[0])\n",
    "plot_svm_regression(svm_poly_reg1, X, y, [-1, 1, 0, 1])\n",
    "plt.title(r\"$degree={}, C={}, \\epsilon = {}$\".format(svm_poly_reg1.degree, svm_poly_reg1.C, svm_poly_reg1.epsilon), fontsize=18)\n",
    "plt.ylabel(r\"$y$\", fontsize=18, rotation=0)\n",
    "plt.sca(axes[1])\n",
    "plot_svm_regression(svm_poly_reg2, X, y, [-1, 1, 0, 1])\n",
    "plt.title(r\"$degree={}, C={}, \\epsilon = {}$\".format(svm_poly_reg2.degree, svm_poly_reg2.C, svm_poly_reg2.epsilon), fontsize=18)"
   ]
  },
  {
   "cell_type": "markdown",
   "id": "4f4907ac",
   "metadata": {},
   "source": [
    "- 왼쪽 그래프는 규제가 거의 없고(아주 큰 C), 오른쪽 그래프는 규제가 훨씬 많다(작은 C)."
   ]
  },
  {
   "cell_type": "markdown",
   "id": "0700167e",
   "metadata": {},
   "source": [
    "# 5.4 SVM 이론"
   ]
  },
  {
   "cell_type": "markdown",
   "id": "619f9b1a",
   "metadata": {},
   "source": [
    "1. 서포트 벡터 머신의 근본 아이디어는 무엇인가요?\n",
    "- 클래스 사이에 도로(마진)를 내는 것이다.\n",
    "\n",
    "2. 서포트 벡터가 무엇인가요?\n",
    "- 서포트 벡터는 마진의 경계에 놓인 샘플이다. 결정 경계는 서포트 벡터에 의해 결정된다.\n",
    "\n",
    "3. SVM을 사용할 때 입력값의 스케일이 왜 중요한가요?\n",
    "- 스케일이 맞지 않으면 크기가 작은 특성은 무시 될 수 있기 때문이다.\n",
    "\n",
    "4. SVM 분류기가 샘플을 분류할 때 신뢰도 점수와 확률을 출력할 수 있나요?\n",
    "- 신뢰도 점수는 출력 가능하지만 확률을 바로 출력할 수는 없다. 사이킷런에서 SVM 모델을 만들 때 probability = True로 설정한 후 SVM의 점수에 로지스틱 회귀를 훈련시켜 확률을 계산해야한다. (predict_proba(), predict_log_proba() 메서드 추가) \n",
    "\n",
    "5. 수백만 개의 샘플과 수백 개의 특성을 가진 훈련 세트에 SVM 모델을 훈련시키려면 원 문제와쌍대 문제 중 어떤 것을 사용해야 하나요?\n",
    "- 커널 SVM은 쌍대 형식만 사용 가능하므로, 이 질문은 선형 SVM만 사용가능하다. \n",
    "\n",
    "6. RBF 커널을 사용해 SVM 분류기를 훈련시켰더니 훈련 세트에 과소적합된 것 같습니다.gamma를증가시켜야할까요, 감소시켜야할까요? C의 경우는 어떤가요?\n",
    "- 과소 적합 된 경우 gamma와 C 모두 증가시켜 모델에 규제를 주어야한다.\n",
    "\n",
    "7. 이미 만들어진 QP 알고리즘 라이브러리를 사용해 소프트 마진 선형 SVM 분류기를 학습시키려면 QP 매개변수(H. f, A, b)를 어떻게 지정해야 하나요?\n",
    "- \n",
    "\n",
    "8. 선형적으로 분리되는 데이터셋에 LinearSVC를 훈련시켜보세요. 그런 다음 같은 데이터셋에 SVC와 SGDClassifier를 적용해보세요. 거의 비슷한모델이 만들어지는지 확인해보세요."
   ]
  },
  {
   "cell_type": "code",
   "execution_count": 19,
   "id": "bc388255",
   "metadata": {},
   "outputs": [],
   "source": [
    "from sklearn import datasets\n",
    "\n",
    "iris = datasets.load_iris()\n",
    "X = iris[\"data\"][:, (2, 3)]  # petal length, petal width\n",
    "y = iris[\"target\"]\n",
    "\n",
    "setosa_or_versicolor = (y == 0) | (y == 1) #y값에서 0또는 1만 남기고 2는 삭제 -> 이진분류를 위해서\n",
    "X = X[setosa_or_versicolor]\n",
    "y = y[setosa_or_versicolor]"
   ]
  },
  {
   "cell_type": "code",
   "execution_count": 20,
   "id": "8f305978",
   "metadata": {},
   "outputs": [
    {
     "data": {
      "text/plain": [
       "SGDClassifier(alpha=1e-05, eta0=0.001, learning_rate='constant')"
      ]
     },
     "execution_count": 20,
     "metadata": {},
     "output_type": "execute_result"
    }
   ],
   "source": [
    "scaler = StandardScaler()\n",
    "X_scaled = scaler.fit_transform(X)\n",
    "\n",
    "#linear_svc\n",
    "linear_svc = LinearSVC(C=1, loss='hinge')\n",
    "\n",
    "linear_svc.fit(X_scaled,y)\n",
    "\n",
    "#SVC\n",
    "svc = SVC(kernel = 'linear', C=1)\n",
    "\n",
    "svc.fit(X_scaled,y)\n",
    "\n",
    "#SGDClassifier\n",
    "alpha = 1 / (C * len(X))\n",
    "\n",
    "from sklearn.linear_model import SGDClassifier\n",
    "SGD = SGDClassifier(loss=\"hinge\", learning_rate=\"constant\",\n",
    "                                            eta0 = 0.001, alpha = alpha,\n",
    "                                           max_iter = 1000, tol = 1e-3)\n",
    "SGD.fit(X_scaled,y)"
   ]
  },
  {
   "cell_type": "code",
   "execution_count": 21,
   "id": "27197312",
   "metadata": {},
   "outputs": [
    {
     "name": "stdout",
     "output_type": "stream",
     "text": [
      "LinearSVC: [0.29588877] [[1.0607458  1.00177835]]\n",
      "SVC: [0.32182521] [[1.04342638 0.94747825]]\n",
      "SGD: [0.117] [[0.7799005  0.73237321]]\n"
     ]
    }
   ],
   "source": [
    "print(\"LinearSVC:\", linear_svc.intercept_, linear_svc.coef_)\n",
    "print(\"SVC:\", svc.intercept_, svc.coef_)\n",
    "print(\"SGD:\", SGD.intercept_, SGD.coef_)"
   ]
  },
  {
   "cell_type": "code",
   "execution_count": 22,
   "id": "5b7294db",
   "metadata": {},
   "outputs": [
    {
     "data": {
      "image/png": "[encoded data removed]",
      "text/plain": [
       "<Figure size 792x288 with 1 Axes>"
      ]
     },
     "metadata": {
      "needs_background": "light"
     },
     "output_type": "display_data"
    }
   ],
   "source": [
    "w1 = -linear_svc.coef_[0,0]/linear_svc.coef_[0,1]\n",
    "b1 = -linear_svc.intercept_[0]/linear_svc.coef_[0,1]\n",
    "w2 = -svc.coef_[0,0]/svc.coef_[0,1]\n",
    "b2 = -svc.intercept_[0]/svc.coef_[0,1]\n",
    "w3 = -SGD.coef_[0,0]/SGD.coef_[0,1]\n",
    "b3 = -SGD.intercept_[0]/SGD.coef_[0,1]\n",
    "\n",
    "#원래 scaler로 되돌리기 \n",
    "line1 = scaler.inverse_transform([[-10, -10 * w1 + b1], [10, 10 * w1 + b1]])\n",
    "line2 = scaler.inverse_transform([[-10, -10 * w2 + b2], [10, 10 * w2 + b2]])\n",
    "line3 = scaler.inverse_transform([[-10, -10 * w3 + b3], [10, 10 * w3 + b3]])\n",
    "\n",
    "plt.figure(figsize=(11, 4))\n",
    "plt.plot(line1[:, 0], line1[:, 1], \"k:\", label=\"LinearSVC\")\n",
    "plt.plot(line2[:, 0], line2[:, 1], \"b--\", linewidth=2, label=\"SVC\")\n",
    "plt.plot(line3[:, 0], line3[:, 1], \"r-\", label=\"SGDClassifier\")\n",
    "plt.plot(X[:, 0][y==1], X[:, 1][y==1], \"bs\") # label=\"Iris versicolor\"\n",
    "plt.plot(X[:, 0][y==0], X[:, 1][y==0], \"yo\") # label=\"Iris setosa\"\n",
    "plt.xlabel(\"Petal length\", fontsize=14)\n",
    "plt.ylabel(\"Petal width\", fontsize=14)\n",
    "plt.legend(loc=\"upper center\", fontsize=14)\n",
    "plt.axis([0, 5.5, 0, 2])\n",
    "\n",
    "plt.show()"
   ]
  },
  {
   "cell_type": "markdown",
   "id": "2c6c1c6b",
   "metadata": {},
   "source": [
    "9. MNIST 데이터셋에 SVM 분류기를훈련시켜보세요. SVM 분류기는 이진 분류기라서 OvR\n",
    "전략을 사용해 10개의 숫자를 분류해야 합니다. 처리 속도를 높이기 위해 작은 검증 세트로\n",
    "하이퍼파라미터를 조정하는 것이 좋습니다. 어느 정도까지 정확도를높일 수 있나요?"
   ]
  },
  {
   "cell_type": "code",
   "execution_count": 23,
   "id": "46e4fbb1",
   "metadata": {},
   "outputs": [],
   "source": [
    "from sklearn.datasets import fetch_openml\n",
    "mnist = fetch_openml('mnist_784', version=1, cache=True, as_frame=False)\n",
    "\n",
    "X = mnist[\"data\"]\n",
    "y = mnist[\"target\"].astype(np.uint8)\n",
    "\n",
    "X_train = X[:60000]\n",
    "y_train = y[:60000]\n",
    "X_test = X[60000:]\n",
    "y_test = y[60000:]"
   ]
  },
  {
   "cell_type": "code",
   "execution_count": 24,
   "id": "77ab6aa3",
   "metadata": {},
   "outputs": [
    {
     "name": "stderr",
     "output_type": "stream",
     "text": [
      "C:\\Users\\qual9\\Anaconda3\\lib\\site-packages\\sklearn\\svm\\_base.py:985: ConvergenceWarning: Liblinear failed to converge, increase the number of iterations.\n",
      "  warnings.warn(\"Liblinear failed to converge, increase \"\n"
     ]
    },
    {
     "data": {
      "text/plain": [
       "LinearSVC(C=1, loss='hinge')"
      ]
     },
     "execution_count": 24,
     "metadata": {},
     "output_type": "execute_result"
    }
   ],
   "source": [
    "linear_svc = LinearSVC(C=1, loss='hinge')\n",
    "linear_svc.fit(X_train,y_train)"
   ]
  },
  {
   "cell_type": "code",
   "execution_count": 25,
   "id": "4e1b0b2c",
   "metadata": {},
   "outputs": [
    {
     "data": {
      "text/plain": [
       "0.8712333333333333"
      ]
     },
     "execution_count": 25,
     "metadata": {},
     "output_type": "execute_result"
    }
   ],
   "source": [
    "from sklearn.metrics import accuracy_score\n",
    "\n",
    "y_pred = linear_svc.predict(X_train)\n",
    "accuracy_score(y_train, y_pred)"
   ]
  },
  {
   "cell_type": "markdown",
   "id": "24dc0abf",
   "metadata": {},
   "source": [
    "C=1, loss='hinge' -> 정확도 : 0.84298"
   ]
  },
  {
   "cell_type": "code",
   "execution_count": 26,
   "id": "d9db978a",
   "metadata": {},
   "outputs": [],
   "source": [
    "#scaler 조절\n",
    "scaler = StandardScaler()\n",
    "X_train_scaled = scaler.fit_transform(X_train.astype(np.float32))\n",
    "X_test_scaled = scaler.fit_transform(X_test.astype(np.float32))"
   ]
  },
  {
   "cell_type": "code",
   "execution_count": 27,
   "id": "bb84643c",
   "metadata": {},
   "outputs": [
    {
     "name": "stderr",
     "output_type": "stream",
     "text": [
      "C:\\Users\\qual9\\Anaconda3\\lib\\site-packages\\sklearn\\svm\\_base.py:985: ConvergenceWarning: Liblinear failed to converge, increase the number of iterations.\n",
      "  warnings.warn(\"Liblinear failed to converge, increase \"\n"
     ]
    },
    {
     "data": {
      "text/plain": [
       "0.9305833333333333"
      ]
     },
     "execution_count": 27,
     "metadata": {},
     "output_type": "execute_result"
    }
   ],
   "source": [
    "linear_svc.fit(X_train_scaled, y_train)\n",
    "y_pred = linear_svc.predict(X_train_scaled)\n",
    "accuracy_score(y_train,y_pred)"
   ]
  },
  {
   "cell_type": "markdown",
   "id": "88dc5754",
   "metadata": {},
   "source": [
    "scaler 조절 -> 정확도 : 0.9305"
   ]
  },
  {
   "cell_type": "code",
   "execution_count": 28,
   "id": "47062a4a",
   "metadata": {},
   "outputs": [
    {
     "data": {
      "text/plain": [
       "SVC()"
      ]
     },
     "execution_count": 28,
     "metadata": {},
     "output_type": "execute_result"
    }
   ],
   "source": [
    "#커널 사용\n",
    "SVC = SVC(gamma=\"scale\") #gamma = 'scaler' 기본값 \n",
    "SVC.fit(X_train_scaled[:10000], y_train[:10000])"
   ]
  },
  {
   "cell_type": "code",
   "execution_count": 30,
   "id": "36e83f1a",
   "metadata": {},
   "outputs": [
    {
     "data": {
      "text/plain": [
       "0.9455333333333333"
      ]
     },
     "execution_count": 30,
     "metadata": {},
     "output_type": "execute_result"
    }
   ],
   "source": [
    "y_pred = SVC.predict(X_train_scaled)\n",
    "accuracy_score(y_train,y_pred)"
   ]
  },
  {
   "cell_type": "markdown",
   "id": "c6776ab1",
   "metadata": {},
   "source": [
    "#커널 사용 -> 정확도 0.94551"
   ]
  },
  {
   "cell_type": "markdown",
   "id": "14126232",
   "metadata": {},
   "source": [
    "10. 캘리포니아 주택 가격 데이터셋에 SVM 회귀를 훈련시켜보세요"
   ]
  },
  {
   "cell_type": "code",
   "execution_count": 37,
   "id": "756ec83b",
   "metadata": {},
   "outputs": [],
   "source": [
    "from sklearn.datasets import fetch_california_housing\n",
    "\n",
    "housing = fetch_california_housing()\n",
    "X = housing[\"data\"]\n",
    "y = housing[\"target\"]"
   ]
  },
  {
   "cell_type": "code",
   "execution_count": 38,
   "id": "3ce3230c",
   "metadata": {},
   "outputs": [],
   "source": [
    "from sklearn.model_selection import train_test_split\n",
    "\n",
    "X_train, X_test, y_train, y_test = train_test_split(X,y,test_size=0.2, random_state = 42)\n",
    "\n",
    "scaler = StandardScaler()\n",
    "X_train_scaled = scaler.fit_transform(X_train)\n",
    "X_test_scaled = scaler.fit_transform(X_test)"
   ]
  },
  {
   "cell_type": "code",
   "execution_count": 42,
   "id": "8c4ab2b8",
   "metadata": {},
   "outputs": [
    {
     "name": "stderr",
     "output_type": "stream",
     "text": [
      "C:\\Users\\qual9\\Anaconda3\\lib\\site-packages\\sklearn\\svm\\_base.py:985: ConvergenceWarning: Liblinear failed to converge, increase the number of iterations.\n",
      "  warnings.warn(\"Liblinear failed to converge, increase \"\n"
     ]
    },
    {
     "data": {
      "text/plain": [
       "LinearSVR(random_state=42)"
      ]
     },
     "execution_count": 42,
     "metadata": {},
     "output_type": "execute_result"
    }
   ],
   "source": [
    "SVM = LinearSVR(random_state=42)\n",
    "SVM.fit(X_train_scaled, y_train)"
   ]
  },
  {
   "cell_type": "code",
   "execution_count": 43,
   "id": "2d3274d7",
   "metadata": {},
   "outputs": [
    {
     "data": {
      "text/plain": [
       "0.9641780189948642"
      ]
     },
     "execution_count": 43,
     "metadata": {},
     "output_type": "execute_result"
    }
   ],
   "source": [
    "from sklearn.metrics import mean_squared_error\n",
    "\n",
    "y_pred = SVM.predict(X_train_scaled)\n",
    "mse = mean_squared_error(y_train, y_pred)\n",
    "mse"
   ]
  },
  {
   "cell_type": "code",
   "execution_count": 44,
   "id": "9709be68",
   "metadata": {},
   "outputs": [
    {
     "data": {
      "text/plain": [
       "0.9819256687727764"
      ]
     },
     "execution_count": 44,
     "metadata": {},
     "output_type": "execute_result"
    }
   ],
   "source": [
    "np.sqrt(mse)"
   ]
  },
  {
   "cell_type": "code",
   "execution_count": null,
   "id": "ea42d307",
   "metadata": {},
   "outputs": [],
   "source": []
  },
  {
   "cell_type": "code",
   "execution_count": null,
   "id": "e9308494",
   "metadata": {},
   "outputs": [],
   "source": []
  },
  {
   "cell_type": "code",
   "execution_count": null,
   "id": "60b47167",
   "metadata": {},
   "outputs": [],
   "source": []
  },
  {
   "cell_type": "code",
   "execution_count": null,
   "id": "a289f54c",
   "metadata": {},
   "outputs": [],
   "source": []
  },
  {
   "cell_type": "code",
   "execution_count": null,
   "id": "141ab2e3",
   "metadata": {},
   "outputs": [],
   "source": []
  },
  {
   "cell_type": "code",
   "execution_count": null,
   "id": "ccaf71ba",
   "metadata": {},
   "outputs": [],
   "source": []
  }
 ],
 "metadata": {
  "kernelspec": {
   "display_name": "Python 3",
   "language": "python",
   "name": "python3"
  },
  "language_info": {
   "codemirror_mode": {
    "name": "ipython",
    "version": 3
   },
   "file_extension": ".py",
   "mimetype": "text/x-python",
   "name": "python",
   "nbconvert_exporter": "python",
   "pygments_lexer": "ipython3",
   "version": "3.8.8"
  }
 },
 "nbformat": 4,
 "nbformat_minor": 5
}
