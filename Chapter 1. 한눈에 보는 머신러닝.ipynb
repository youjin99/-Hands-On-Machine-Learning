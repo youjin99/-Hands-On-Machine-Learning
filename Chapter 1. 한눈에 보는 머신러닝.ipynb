{
 "cells": [
  {
   "cell_type": "markdown",
   "id": "4c25ec2c",
   "metadata": {},
   "source": [
    "# Part.1"
   ]
  },
  {
   "cell_type": "markdown",
   "id": "1d1e06cf",
   "metadata": {},
   "source": [
    "## Chapter.1 한 눈에 보는 머신러닝"
   ]
  },
  {
   "cell_type": "markdown",
   "id": "35f9559d",
   "metadata": {},
   "source": [
    "##### 설정"
   ]
  },
  {
   "cell_type": "code",
   "execution_count": 4,
   "id": "29d904fd",
   "metadata": {},
   "outputs": [],
   "source": [
    "# 파이썬 2와 파이썬 3 지원\n",
    "from __future__ import division, print_function, unicode_literals\n",
    "\n",
    "# 공통\n",
    "import numpy as np\n",
    "import os\n",
    "\n",
    "# 일관된 출력을 위해 유사난수 초기화\n",
    "np.random.seed(42)\n",
    "\n",
    "# 맷플롯립 설정\n",
    "%matplotlib inline\n",
    "import matplotlib\n",
    "import matplotlib.pyplot as plt\n",
    "plt.rcParams['axes.labelsize'] = 14\n",
    "plt.rcParams['xtick.labelsize'] = 12\n",
    "plt.rcParams['ytick.labelsize'] = 12\n",
    "\n",
    "# 한글출력\n",
    "matplotlib.rc('font', family='Ebrima')\n",
    "plt.rcParams['axes.unicode_minus'] = False\n",
    "\n",
    "# 그림을 저장할 폴드\n",
    "PROJECT_ROOT_DIR = \".\"\n",
    "CHAPTER_ID = \"fundamentals\"\n",
    "\n",
    "def save_fig(fig_id, tight_layout=True):\n",
    "    path = os.path.join(PROJECT_ROOT_DIR, \"images\", CHAPTER_ID, fig_id + \".png\")\n",
    "    if tight_layout:\n",
    "        plt.tight_layout()\n",
    "    plt.savefig(path, format='png', dpi=300)\n",
    "\n",
    "# SciPy 이슈 #5998에 해당하는 경고를 무시합니다(https://github.com/scipy/scipy/issues/5998).\n",
    "import warnings\n",
    "warnings.filterwarnings(action=\"ignore\", module=\"scipy\", message=\"^internal gelsd\")"
   ]
  },
  {
   "cell_type": "markdown",
   "id": "8505be9a",
   "metadata": {},
   "source": [
    "### 예제 1-1 사이킷런을 이용한 선형 모델의 훈련과 실행"
   ]
  },
  {
   "cell_type": "markdown",
   "id": "7757f05f",
   "metadata": {},
   "source": [
    "#### 데이터 적재\n"
   ]
  },
  {
   "cell_type": "code",
   "execution_count": 5,
   "id": "8882fe02",
   "metadata": {},
   "outputs": [],
   "source": [
    "import matplotlib\n",
    "import matplotlib.pyplot as plt\n",
    "import numpy as np\n",
    "import pandas as pd\n",
    "import sklearn\n",
    "import sklearn.linear_model"
   ]
  },
  {
   "cell_type": "code",
   "execution_count": 6,
   "id": "0b9b21e9",
   "metadata": {},
   "outputs": [],
   "source": [
    "import os\n",
    "datapath = os.path.join(\"C:/\",\"Users/\",\"qual9/\",\"머신러닝_핸즈온/\",\"datasets/\", \"lifesat/\", \"\")"
   ]
  },
  {
   "cell_type": "code",
   "execution_count": 7,
   "id": "d47cfdb5",
   "metadata": {},
   "outputs": [],
   "source": [
    "oecd_bli = pd.read_csv(datapath + \"oecd_bli_2015.csv\")"
   ]
  },
  {
   "cell_type": "code",
   "execution_count": 8,
   "id": "e998163f",
   "metadata": {},
   "outputs": [],
   "source": [
    "gdp_per_capita = pd.read_csv(\"C:/Users/qual9/머신러닝_핸즈온/datasets/lifesat/gdp_per_capita.csv\")\n",
    "gdp_per_capita.rename(columns={\"2015\":\"GDP per capita\"}, inplace = True)\n",
    "gdp_per_capita.set_index(\"Country\", inplace =True)"
   ]
  },
  {
   "cell_type": "code",
   "execution_count": 9,
   "id": "78ab57d0",
   "metadata": {},
   "outputs": [
    {
     "data": {
      "text/html": [
       "<div>\n",
       "<style scoped>\n",
       "    .dataframe tbody tr th:only-of-type {\n",
       "        vertical-align: middle;\n",
       "    }\n",
       "\n",
       "    .dataframe tbody tr th {\n",
       "        vertical-align: top;\n",
       "    }\n",
       "\n",
       "    .dataframe thead th {\n",
       "        text-align: right;\n",
       "    }\n",
       "</style>\n",
       "<table border=\"1\" class=\"dataframe\">\n",
       "  <thead>\n",
       "    <tr style=\"text-align: right;\">\n",
       "      <th></th>\n",
       "      <th>Unnamed: 1</th>\n",
       "      <th>Unnamed: 2</th>\n",
       "      <th>Dwellings without basic facilities</th>\n",
       "      <th>Housing expenditure</th>\n",
       "      <th>Rooms per person</th>\n",
       "      <th>Household net adjusted disposable income</th>\n",
       "      <th>Household net wealth</th>\n",
       "      <th>Labour market insecurity</th>\n",
       "      <th>Employment rate</th>\n",
       "      <th>Long-term unemployment rate</th>\n",
       "      <th>...</th>\n",
       "      <th>Water quality</th>\n",
       "      <th>Stakeholder engagement for developing regulations</th>\n",
       "      <th>Voter turnout</th>\n",
       "      <th>Life expectancy</th>\n",
       "      <th>Self-reported health</th>\n",
       "      <th>Life satisfaction</th>\n",
       "      <th>Feeling safe walking alone at night</th>\n",
       "      <th>Homicide rate</th>\n",
       "      <th>Employees working very long hours</th>\n",
       "      <th>Time devoted to leisure and personal care</th>\n",
       "    </tr>\n",
       "    <tr>\n",
       "      <th>Country</th>\n",
       "      <th></th>\n",
       "      <th></th>\n",
       "      <th></th>\n",
       "      <th></th>\n",
       "      <th></th>\n",
       "      <th></th>\n",
       "      <th></th>\n",
       "      <th></th>\n",
       "      <th></th>\n",
       "      <th></th>\n",
       "      <th></th>\n",
       "      <th></th>\n",
       "      <th></th>\n",
       "      <th></th>\n",
       "      <th></th>\n",
       "      <th></th>\n",
       "      <th></th>\n",
       "      <th></th>\n",
       "      <th></th>\n",
       "      <th></th>\n",
       "      <th></th>\n",
       "    </tr>\n",
       "  </thead>\n",
       "  <tbody>\n",
       "    <tr>\n",
       "      <th>Australia</th>\n",
       "      <td>NaN</td>\n",
       "      <td>NaN</td>\n",
       "      <td>..</td>\n",
       "      <td>20</td>\n",
       "      <td>..</td>\n",
       "      <td>32759</td>\n",
       "      <td>427064</td>\n",
       "      <td>5.4</td>\n",
       "      <td>73.0</td>\n",
       "      <td>1.31</td>\n",
       "      <td>...</td>\n",
       "      <td>93.0</td>\n",
       "      <td>2.7</td>\n",
       "      <td>91.0</td>\n",
       "      <td>82.5</td>\n",
       "      <td>85</td>\n",
       "      <td>7.3</td>\n",
       "      <td>63.5</td>\n",
       "      <td>1.1</td>\n",
       "      <td>13.04</td>\n",
       "      <td>14.35</td>\n",
       "    </tr>\n",
       "    <tr>\n",
       "      <th>Austria</th>\n",
       "      <td>NaN</td>\n",
       "      <td>NaN</td>\n",
       "      <td>0.9</td>\n",
       "      <td>21</td>\n",
       "      <td>1.6</td>\n",
       "      <td>33541</td>\n",
       "      <td>308325</td>\n",
       "      <td>3.5</td>\n",
       "      <td>72.0</td>\n",
       "      <td>1.84</td>\n",
       "      <td>...</td>\n",
       "      <td>92.0</td>\n",
       "      <td>1.3</td>\n",
       "      <td>80.0</td>\n",
       "      <td>81.7</td>\n",
       "      <td>70</td>\n",
       "      <td>7.1</td>\n",
       "      <td>80.6</td>\n",
       "      <td>0.5</td>\n",
       "      <td>6.66</td>\n",
       "      <td>14.55</td>\n",
       "    </tr>\n",
       "  </tbody>\n",
       "</table>\n",
       "<p>2 rows × 26 columns</p>\n",
       "</div>"
      ],
      "text/plain": [
       "          Unnamed: 1  Unnamed: 2   Dwellings without basic facilities  \\\n",
       "Country                                                                 \n",
       "Australia        NaN         NaN                                   ..   \n",
       "Austria          NaN         NaN                                  0.9   \n",
       "\n",
       "            Housing expenditure   Rooms per person  \\\n",
       "Country                                              \n",
       "Australia                    20                 ..   \n",
       "Austria                      21                1.6   \n",
       "\n",
       "            Household net adjusted disposable income   Household net wealth  \\\n",
       "Country                                                                       \n",
       "Australia                                      32759                 427064   \n",
       "Austria                                        33541                 308325   \n",
       "\n",
       "            Labour market insecurity    Employment rate  \\\n",
       "Country                                                   \n",
       "Australia                        5.4               73.0   \n",
       "Austria                          3.5               72.0   \n",
       "\n",
       "            Long-term unemployment rate  ...   Water quality  \\\n",
       "Country                                  ...                   \n",
       "Australia                          1.31  ...            93.0   \n",
       "Austria                            1.84  ...            92.0   \n",
       "\n",
       "             Stakeholder engagement for developing regulations  \\\n",
       "Country                                                          \n",
       "Australia                                                2.7     \n",
       "Austria                                                  1.3     \n",
       "\n",
       "            Voter turnout   Life expectancy   Self-reported health  \\\n",
       "Country                                                              \n",
       "Australia            91.0              82.5                     85   \n",
       "Austria              80.0              81.7                     70   \n",
       "\n",
       "             Life satisfaction    Feeling safe walking alone at night  \\\n",
       "Country                                                                 \n",
       "Australia                  7.3                                   63.5   \n",
       "Austria                    7.1                                   80.6   \n",
       "\n",
       "            Homicide rate    Employees working very long hours  \\\n",
       "Country                                                          \n",
       "Australia             1.1                                13.04   \n",
       "Austria               0.5                                 6.66   \n",
       "\n",
       "             Time devoted to leisure and personal care  \n",
       "Country                                                 \n",
       "Australia                                        14.35  \n",
       "Austria                                          14.55  \n",
       "\n",
       "[2 rows x 26 columns]"
      ]
     },
     "execution_count": 9,
     "metadata": {},
     "output_type": "execute_result"
    }
   ],
   "source": [
    "oecd_bli.set_index(\"Country\", inplace =True)\n",
    "oecd_bli.head(2)"
   ]
  },
  {
   "cell_type": "code",
   "execution_count": 10,
   "id": "764ac662",
   "metadata": {
    "scrolled": true
   },
   "outputs": [
    {
     "data": {
      "text/html": [
       "<div>\n",
       "<style scoped>\n",
       "    .dataframe tbody tr th:only-of-type {\n",
       "        vertical-align: middle;\n",
       "    }\n",
       "\n",
       "    .dataframe tbody tr th {\n",
       "        vertical-align: top;\n",
       "    }\n",
       "\n",
       "    .dataframe thead th {\n",
       "        text-align: right;\n",
       "    }\n",
       "</style>\n",
       "<table border=\"1\" class=\"dataframe\">\n",
       "  <thead>\n",
       "    <tr style=\"text-align: right;\">\n",
       "      <th></th>\n",
       "      <th>GDP per capita</th>\n",
       "      <th>Life satisfaction</th>\n",
       "    </tr>\n",
       "    <tr>\n",
       "      <th>Country</th>\n",
       "      <th></th>\n",
       "      <th></th>\n",
       "    </tr>\n",
       "  </thead>\n",
       "  <tbody>\n",
       "    <tr>\n",
       "      <th>Austria</th>\n",
       "      <td>-0.132</td>\n",
       "      <td>7.1</td>\n",
       "    </tr>\n",
       "    <tr>\n",
       "      <th>Belgium</th>\n",
       "      <td>-0.247</td>\n",
       "      <td>6.9</td>\n",
       "    </tr>\n",
       "    <tr>\n",
       "      <th>Chile</th>\n",
       "      <td>-0.208</td>\n",
       "      <td>6.5</td>\n",
       "    </tr>\n",
       "    <tr>\n",
       "      <th>Colombia</th>\n",
       "      <td>-0.185</td>\n",
       "      <td>6.3</td>\n",
       "    </tr>\n",
       "    <tr>\n",
       "      <th>Estonia</th>\n",
       "      <td>-0.146</td>\n",
       "      <td>5.7</td>\n",
       "    </tr>\n",
       "    <tr>\n",
       "      <th>Estonia</th>\n",
       "      <td>-0.284</td>\n",
       "      <td>5.7</td>\n",
       "    </tr>\n",
       "    <tr>\n",
       "      <th>Estonia</th>\n",
       "      <td>-0.161</td>\n",
       "      <td>5.7</td>\n",
       "    </tr>\n",
       "    <tr>\n",
       "      <th>France</th>\n",
       "      <td>-0.216</td>\n",
       "      <td>6.5</td>\n",
       "    </tr>\n",
       "    <tr>\n",
       "      <th>Germany</th>\n",
       "      <td>-0.054</td>\n",
       "      <td>7.0</td>\n",
       "    </tr>\n",
       "    <tr>\n",
       "      <th>Israel</th>\n",
       "      <td>-0.144</td>\n",
       "      <td>7.2</td>\n",
       "    </tr>\n",
       "    <tr>\n",
       "      <th>Israel</th>\n",
       "      <td>-0.272</td>\n",
       "      <td>7.2</td>\n",
       "    </tr>\n",
       "    <tr>\n",
       "      <th>Korea</th>\n",
       "      <td>-0.315</td>\n",
       "      <td>5.9</td>\n",
       "    </tr>\n",
       "    <tr>\n",
       "      <th>Latvia</th>\n",
       "      <td>-0.038</td>\n",
       "      <td>5.9</td>\n",
       "    </tr>\n",
       "    <tr>\n",
       "      <th>Latvia</th>\n",
       "      <td>-0.3</td>\n",
       "      <td>5.9</td>\n",
       "    </tr>\n",
       "    <tr>\n",
       "      <th>Latvia</th>\n",
       "      <td>-0.151</td>\n",
       "      <td>5.9</td>\n",
       "    </tr>\n",
       "    <tr>\n",
       "      <th>Latvia</th>\n",
       "      <td>-0.354</td>\n",
       "      <td>5.9</td>\n",
       "    </tr>\n",
       "    <tr>\n",
       "      <th>Lithuania</th>\n",
       "      <td>-0.379</td>\n",
       "      <td>5.9</td>\n",
       "    </tr>\n",
       "    <tr>\n",
       "      <th>Luxembourg</th>\n",
       "      <td>-0.163</td>\n",
       "      <td>6.9</td>\n",
       "    </tr>\n",
       "    <tr>\n",
       "      <th>Luxembourg</th>\n",
       "      <td>-0.315</td>\n",
       "      <td>6.9</td>\n",
       "    </tr>\n",
       "    <tr>\n",
       "      <th>Netherlands</th>\n",
       "      <td>-0.16</td>\n",
       "      <td>7.4</td>\n",
       "    </tr>\n",
       "    <tr>\n",
       "      <th>New Zealand</th>\n",
       "      <td>-0.053</td>\n",
       "      <td>7.3</td>\n",
       "    </tr>\n",
       "    <tr>\n",
       "      <th>New Zealand</th>\n",
       "      <td>-0.323</td>\n",
       "      <td>7.3</td>\n",
       "    </tr>\n",
       "    <tr>\n",
       "      <th>New Zealand</th>\n",
       "      <td>-0.333</td>\n",
       "      <td>7.3</td>\n",
       "    </tr>\n",
       "    <tr>\n",
       "      <th>Slovak Republic</th>\n",
       "      <td>-0.058</td>\n",
       "      <td>6.2</td>\n",
       "    </tr>\n",
       "    <tr>\n",
       "      <th>Slovenia</th>\n",
       "      <td>-0.32</td>\n",
       "      <td>5.9</td>\n",
       "    </tr>\n",
       "    <tr>\n",
       "      <th>Slovenia</th>\n",
       "      <td>-0.2</td>\n",
       "      <td>5.9</td>\n",
       "    </tr>\n",
       "    <tr>\n",
       "      <th>Spain</th>\n",
       "      <td>-0.346</td>\n",
       "      <td>6.3</td>\n",
       "    </tr>\n",
       "    <tr>\n",
       "      <th>Switzerland</th>\n",
       "      <td>-0.315</td>\n",
       "      <td>7.5</td>\n",
       "    </tr>\n",
       "    <tr>\n",
       "      <th>Switzerland</th>\n",
       "      <td>-0.21</td>\n",
       "      <td>7.5</td>\n",
       "    </tr>\n",
       "  </tbody>\n",
       "</table>\n",
       "</div>"
      ],
      "text/plain": [
       "                GDP per capita    Life satisfaction\n",
       "Country                                            \n",
       "Austria                 -0.132                  7.1\n",
       "Belgium                 -0.247                  6.9\n",
       "Chile                   -0.208                  6.5\n",
       "Colombia                -0.185                  6.3\n",
       "Estonia                 -0.146                  5.7\n",
       "Estonia                 -0.284                  5.7\n",
       "Estonia                 -0.161                  5.7\n",
       "France                  -0.216                  6.5\n",
       "Germany                 -0.054                  7.0\n",
       "Israel                  -0.144                  7.2\n",
       "Israel                  -0.272                  7.2\n",
       "Korea                   -0.315                  5.9\n",
       "Latvia                  -0.038                  5.9\n",
       "Latvia                    -0.3                  5.9\n",
       "Latvia                  -0.151                  5.9\n",
       "Latvia                  -0.354                  5.9\n",
       "Lithuania               -0.379                  5.9\n",
       "Luxembourg              -0.163                  6.9\n",
       "Luxembourg              -0.315                  6.9\n",
       "Netherlands              -0.16                  7.4\n",
       "New Zealand             -0.053                  7.3\n",
       "New Zealand             -0.323                  7.3\n",
       "New Zealand             -0.333                  7.3\n",
       "Slovak Republic         -0.058                  6.2\n",
       "Slovenia                 -0.32                  5.9\n",
       "Slovenia                  -0.2                  5.9\n",
       "Spain                   -0.346                  6.3\n",
       "Switzerland             -0.315                  7.5\n",
       "Switzerland              -0.21                  7.5"
      ]
     },
     "execution_count": 10,
     "metadata": {},
     "output_type": "execute_result"
    }
   ],
   "source": [
    "full_country_stats = pd.merge(left = oecd_bli, right=gdp_per_capita,\n",
    "                                  left_index=True, right_index=True)\n",
    "full_country_stats.sort_values(by=\"GDP per capita\", inplace=True)\n",
    "remove_indices = [0, 1, 6, 8, 33, 34, 35]\n",
    "keep_indices = list(set(range(36)) - set(remove_indices))\n",
    "\n",
    "country_stats = full_country_stats[[\"GDP per capita\", '  Life satisfaction']].iloc[keep_indices]\n",
    "country_stats.sort_values(by=\"Country\", inplace=True)\n",
    "country_stats"
   ]
  },
  {
   "cell_type": "markdown",
   "id": "375b9e50",
   "metadata": {},
   "source": [
    "#### 데이터 준비"
   ]
  },
  {
   "cell_type": "code",
   "execution_count": 17,
   "id": "fbcc4ea7",
   "metadata": {},
   "outputs": [
    {
     "data": {
      "text/plain": [
       "array([['-0.132'],\n",
       "       ['-0.247'],\n",
       "       ['-0.208'],\n",
       "       ['-0.185'],\n",
       "       ['-0.146'],\n",
       "       ['-0.284'],\n",
       "       ['-0.161'],\n",
       "       ['-0.216'],\n",
       "       ['-0.054'],\n",
       "       ['-0.144'],\n",
       "       ['-0.272'],\n",
       "       ['-0.315'],\n",
       "       ['-0.038'],\n",
       "       ['-0.3'],\n",
       "       ['-0.151'],\n",
       "       ['-0.354'],\n",
       "       ['-0.379'],\n",
       "       ['-0.163'],\n",
       "       ['-0.315'],\n",
       "       ['-0.16'],\n",
       "       ['-0.053'],\n",
       "       ['-0.323'],\n",
       "       ['-0.333'],\n",
       "       ['-0.058'],\n",
       "       ['-0.32'],\n",
       "       ['-0.2'],\n",
       "       ['-0.346'],\n",
       "       ['-0.315'],\n",
       "       ['-0.21']], dtype=object)"
      ]
     },
     "execution_count": 17,
     "metadata": {},
     "output_type": "execute_result"
    }
   ],
   "source": [
    "X = np.c_[country_stats[\"GDP per capita\"]]\n",
    "y = np.c_[country_stats[\"  Life satisfaction\"]]"
   ]
  },
  {
   "cell_type": "markdown",
   "id": "7907ea77",
   "metadata": {},
   "source": [
    "#### 데이터 시각화"
   ]
  },
  {
   "cell_type": "code",
   "execution_count": 15,
   "id": "2c03c244",
   "metadata": {},
   "outputs": [
    {
     "data": {
      "image/png": "[encoded data removed]",
      "text/plain": [
       "<Figure size 432x288 with 1 Axes>"
      ]
     },
     "metadata": {
      "needs_background": "light"
     },
     "output_type": "display_data"
    }
   ],
   "source": [
    "ax = country_stats.plot(kind='scatter',x=\"GDP per capita\", y=\"  Life satisfaction\")\n",
    "plt.show()"
   ]
  },
  {
   "cell_type": "markdown",
   "id": "15577c60",
   "metadata": {},
   "source": [
    "#### 선형 모델 선택"
   ]
  },
  {
   "cell_type": "code",
   "execution_count": 16,
   "id": "a6be71c1",
   "metadata": {},
   "outputs": [],
   "source": [
    "model = sklearn.linear_model.LinearRegression()"
   ]
  },
  {
   "cell_type": "markdown",
   "id": "bd024bc5",
   "metadata": {},
   "source": [
    "#### 모델 훈련"
   ]
  },
  {
   "cell_type": "code",
   "execution_count": 18,
   "id": "db5a8124",
   "metadata": {},
   "outputs": [
    {
     "data": {
      "text/plain": [
       "LinearRegression()"
      ]
     },
     "execution_count": 18,
     "metadata": {},
     "output_type": "execute_result"
    }
   ],
   "source": [
    "model.fit(X,y)"
   ]
  },
  {
   "cell_type": "markdown",
   "id": "4042d0c0",
   "metadata": {},
   "source": [
    "#### 키프로스에 대한 예측"
   ]
  },
  {
   "cell_type": "code",
   "execution_count": 19,
   "id": "f3d5c0c0",
   "metadata": {},
   "outputs": [
    {
     "name": "stdout",
     "output_type": "stream",
     "text": [
      "[[11851.23659881]]\n"
     ]
    }
   ],
   "source": [
    "X_new = [[22587]] #키프로스 1인당 GDP\n",
    "print(model.predict(X_new))"
   ]
  },
  {
   "cell_type": "markdown",
   "id": "890afc0d",
   "metadata": {},
   "source": [
    "### 1.6 연습문제"
   ]
  },
  {
   "cell_type": "markdown",
   "id": "82e4f539",
   "metadata": {},
   "source": [
    "1. 머신러닝을 어떻게 정의할 수 있나요?\n",
    "- 머신러닝이란 컴퓨터가 학습을 하도록 만드는 것이다.\n",
    "\n",
    "2. 머신러닝이 도움을 줄 수 있는 문제 유형 네 가지를 말해보세요.\n",
    "- 스팸메일분류, 음성인식, 군집화, 클래스 예측\n",
    "\n",
    "3. 레이블된 훈련 세트란 무엇인가요?\n",
    "- 정답 레이블을 갖고 있는 세트\n",
    "\n",
    "4. 가장 널리 사용되는 지도 학습 작업 두 가지는 무엇인가요?\n",
    "- 회귀와 분류\n",
    "\n",
    "5. 보편적인 비지도 학습 작업 네 자지는 무엇인가요?\n",
    "- 군집, 시각화, 차원 축소, 연관 규칙 학습 \n",
    "\n",
    "6. 사전 정보가 없는 여러 지형에서 로봇을 걸어가게 하려면 어떤 종류의 머신러닝 알고리즘을 사용할 수 있나요?\n",
    "- 강화학습\n",
    "\n",
    "7. 고객을 여러 그룹으로 분할하려면 어떤 알고리즘을 사용해야 하나요?\n",
    "- 군집화 알고리즘 사용 \n",
    "\n",
    "8. 스팸 감지의 문제는 지도 학습과 비지도 학습 중 어떤 문제로 볼 수 있나요?\n",
    "- 지도학습 \n",
    "\n",
    "9. 온라인 학습 시스템이 무엇인가요?\n",
    "- 온라인 학습 시스템은 점진적으로 학습하는 시스템으로 새로운 데이터가 들어오면 그 전의 데이터를 버린다. \n",
    "\n",
    "10. 외부 메모리 학습이 무엇인가요?\n",
    "- 컴퓨터 한 대의 메인 메모리에 들어갈 수 없는 아주 큰 데이터셋을 학습하는 시스템으로 온라인 학습 알고리즘을 사용하는 학습이다.\n",
    "\n",
    "11. 예측을 하기 위해 유사도 측정에 의존하는 학습 알고리즘은 무엇인가요?\n",
    "- 사례 기반 학습\n",
    "\n",
    "12. 모델 파라미터와 학습 알고리즘의 하이퍼파라미터 사이에는 어떤 차이가 있나요?\n",
    "- 모델 파라미터는 알고리즘이 학습을하며 찾는 최적의 파라미터이다. 학습 알고리즘의 하이퍼파라미터는 훈련 전에 미리 정해놓는 파라미터이다..\n",
    "\n",
    "13. 모델 기반 알고리즘이 찾는 것은 무엇인가요? 성공을 위해 이 알고리즘이 사용하는 가장 일반적인 전략은 무엇인가요? 예측은 어떻게 만드나요?\n",
    "- 모델 기반 알고리즘이 찾는 것은 모델 파라미터의 최적값이다. 훈련 데이터를 이용하여 시스템을 훈련시킨 후 검증데이터를 통해 최적의 파라미터를 찾아낸 뒤 테스트 데이터를 이용하여 모델을 결정한다.\n",
    "\n",
    "14. 머신러닝의 주요 도전 과제는 무엇인가요?\n",
    "- 부족한 수의 데이터, 낮은 품질의 데이터, 무의미한 특성, 과소적합 된 간단한 모델, 과대적합된 복잡한 모델 \n",
    "\n",
    "15. 모델이 훈련 데이터에서의 성능은 좋지만 새로운 샘플에서의 일반화 성능이 나쁘다면 어떤 문제가 있는 건가요? 가능한 해결책 세 가지는 무엇인가요?\n",
    "- 과대적합의 문제. 1) 데이터 수 증가시키기 2) 모델을 단순화 시키기 3) 잡음 감소시키기\n",
    "\n",
    "16. 테스트 세트가 무엇이고 왜 사용해야 하나요?\n",
    "- 테스트 세트는 훈련 데이터에서 20%정도 떼어는 데이터 세트이다. 모델이 과적합되는 것을 막기 위해 사용해야한다.\n",
    "\n",
    "17. 검증 세트의 목적은 무엇인가요?\n",
    "- 검증 세트는 다양한 모델들을 평가하고 가장 적합한 모델을 선택하기 위해서 사용한다. \n",
    "\n",
    "18. 훈련-개발 세트가 무엇인가요? 언제 필요하고 어떻게 사용해야 하나요?\n",
    "- 훈련-개발 세트는 훈련 데이터 중 일부를 떼어 만든 데이터 세트이다. 훈련-개발 세트를 제외한 훈련데이터로 모델을 훈련하고 훈련-개발 세트로 평가를한다. \n",
    "\n",
    "19. 테스트 세트를 사용해 하이퍼파라미터를 튜닝하면 어떤 문제가 생기나요?\n",
    "- 과적합 될 수 있다."
   ]
  },
  {
   "cell_type": "code",
   "execution_count": null,
   "id": "11bfcc40",
   "metadata": {},
   "outputs": [],
   "source": []
  },
  {
   "cell_type": "code",
   "execution_count": null,
   "id": "0a3547ab",
   "metadata": {},
   "outputs": [],
   "source": []
  },
  {
   "cell_type": "code",
   "execution_count": null,
   "id": "9292a373",
   "metadata": {},
   "outputs": [],
   "source": []
  },
  {
   "cell_type": "code",
   "execution_count": null,
   "id": "6a189cb1",
   "metadata": {},
   "outputs": [],
   "source": []
  },
  {
   "cell_type": "code",
   "execution_count": null,
   "id": "a3a083ad",
   "metadata": {},
   "outputs": [],
   "source": []
  },
  {
   "cell_type": "code",
   "execution_count": null,
   "id": "c746f052",
   "metadata": {},
   "outputs": [],
   "source": []
  },
  {
   "cell_type": "code",
   "execution_count": null,
   "id": "d255f947",
   "metadata": {},
   "outputs": [],
   "source": []
  },
  {
   "cell_type": "code",
   "execution_count": null,
   "id": "1c13a641",
   "metadata": {},
   "outputs": [],
   "source": []
  },
  {
   "cell_type": "code",
   "execution_count": null,
   "id": "21ccfdd8",
   "metadata": {},
   "outputs": [],
   "source": []
  }
 ],
 "metadata": {
  "kernelspec": {
   "display_name": "Python 3",
   "language": "python",
   "name": "python3"
  },
  "language_info": {
   "codemirror_mode": {
    "name": "ipython",
    "version": 3
   },
   "file_extension": ".py",
   "mimetype": "text/x-python",
   "name": "python",
   "nbconvert_exporter": "python",
   "pygments_lexer": "ipython3",
   "version": "3.8.8"
  }
 },
 "nbformat": 4,
 "nbformat_minor": 5
}
